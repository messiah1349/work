{
 "cells": [
  {
   "cell_type": "code",
   "execution_count": 1,
   "metadata": {
    "collapsed": true
   },
   "outputs": [],
   "source": [
    "%matplotlib inline\n",
    "import sys\n",
    "sys.path.append('C:/YandexDisk/Work/RevoBigScorring/')\n",
    "\n",
    "from tempfile import TemporaryFile\n",
    "import pandas as pd\n",
    "import numpy as np\n",
    "import os\n",
    "import getpass\n",
    "import pyodbc\n",
    "import datetime\n",
    "import matplotlib\n",
    "import matplotlib.pyplot as plt\n",
    "\n",
    "from sklearn.utils import check_consistent_length, column_or_1d, check_array\n",
    "import Buckets as bc\n",
    "import woe\n",
    "import scoringfunctions as sf\n",
    "import bsfunctions as bs\n",
    "import time\n",
    "import random\n",
    "from scipy import stats\n",
    "from math import log\n",
    "\n",
    "from sklearn.utils.fixes import isclose\n",
    "from sklearn import metrics as met\n",
    "from sklearn.ensemble import ExtraTreesClassifier\n",
    "from sklearn.cross_validation import KFold\n",
    "from pylab import rcParams\n",
    "from sklearn.linear_model import LogisticRegression\n",
    "from sklearn.feature_selection import RFE\n",
    "from sklearn.cross_validation import cross_val_score, train_test_split\n",
    "from sklearn.feature_selection import RFE\n",
    "rcParams['figure.figsize'] = 7, 7\n",
    "pd.options.mode.chained_assignment = None"
   ]
  },
  {
   "cell_type": "code",
   "execution_count": 2,
   "metadata": {
    "collapsed": false
   },
   "outputs": [
    {
     "name": "stdout",
     "output_type": "stream",
     "text": [
      "DWH_Password: ········\n"
     ]
    }
   ],
   "source": [
    "connectString = 'DRIVER={SQL Server};SERVER=dwh.int.revoplus.ru;DATABASE=Revo_DW;UID=e.migaev;PWD='\n",
    "pswd = getpass.getpass('DWH_Password: ')\n",
    "connectString = connectString + pswd\n",
    "cnxn = pyodbc.connect(connectString)\n",
    "pswd = connectString = ''"
   ]
  },
  {
   "cell_type": "code",
   "execution_count": 3,
   "metadata": {
    "collapsed": true
   },
   "outputs": [],
   "source": [
    "mainQuery = \"\"\"with bclients as (\n",
    "select a.clientKey\n",
    "from user_data.kuz_revo1 a\n",
    "left join scorOut b on a.clientkey=b.clientkey\n",
    "where apptype='2.New' and booked=1 and b.clientkey is null and year(applicationdate)>=2015 and bkiflg=1\n",
    ")\n",
    "\n",
    "\n",
    "select\n",
    "\t\n",
    "\tc.clientKey\n",
    "\t,c.guid\n",
    "\t,la.ApplicationDate\n",
    "\t,t.name as traderName\n",
    "\t,t.traderKey\n",
    "    \n",
    "    ,fa.[ApplicationId]\n",
    "    ,fa.[CreditScore]\n",
    "    ,fa.[CardId]\n",
    "    ,fa.[FoStore]\n",
    "    ,fa.[PosPolicyGroup]\n",
    "    ,fa.[RegionStore]\n",
    "    ,fa.[Age]\n",
    "    ,fa.[CityStore]\n",
    "    ,fa.[GenderTypeKey]\n",
    "    ,fa.[InitialLimit]\n",
    "    ,fa.[RetailerChain]\n",
    "    ,fa.[RetailerPos]\n",
    "    ,fa.[BkiFlg]\n",
    "    ,fa.[PosBureauGroup]\n",
    "    ,fa.[Segment]\n",
    "    ,fa.[FinalDecision]\n",
    "    ,fa.[PostBureau]\n",
    "    ,fa.[PreBureau]\n",
    "    ,fa.[FirstDeclineRule]\n",
    "    ,fa.[Repeated]\n",
    "    ,fa.[Limit]\n",
    "    ,fa.[Source]\n",
    "    ,fa.[Strategy]\n",
    "    ,fa.[RiskGrade]\n",
    "    ,fa.[ProbDef]\n",
    "    ,fa.[ProbResp]\n",
    "    ,fa.[MaxGapDays]\n",
    "    ,fa.[MaxDifferenceInDays]\n",
    "    ,fa.[TotalMaxPayment]\n",
    "    ,fa.[TotalPaymentsCount]\n",
    "    ,fa.[TotalPaymentsSum]\n",
    "    ,fa.[LifePeriod]\n",
    "\n",
    "\t,fcr.[ApplicationId]\n",
    "    ,fcr.[FirstLoanDate]\n",
    "    ,fcr.[Inquiry12Month]\n",
    "    ,fcr.[Inquiry1Month]\n",
    "    ,fcr.[Inquiry1Week]\n",
    "    ,fcr.[Inquiry3Month]\n",
    "    ,fcr.[Inquiry6Month]\n",
    "    ,fcr.[Inquiry9Month]\n",
    "    ,fcr.[InquiryRecentPeriod]\n",
    "    ,fcr.[LastLoanDate]\n",
    "    ,fcr.[LoansActive]\n",
    "    ,fcr.[LoansActiveMainBorrower]\n",
    "    ,fcr.[LoansMainBorrower]\n",
    "    ,fcr.[MaxOverdueStatus]\n",
    "    ,fcr.[PayLoad]\n",
    "    ,fcr.[TtlAccounts]\n",
    "    ,fcr.[TtlBankruptcies]\n",
    "    ,fcr.[TtlConsumer]\n",
    "    ,fcr.[TtlCreditCard]\n",
    "    ,fcr.[TtlDelq3059]\n",
    "    ,fcr.[TtlDelq3059L12m]\n",
    "    ,fcr.[TtlDelq30L12m]\n",
    "    ,fcr.[TtlDelq5]\n",
    "    ,fcr.[TtlDelq529]\n",
    "    ,fcr.[TtlDelq6089]\n",
    "    ,fcr.[TtlDelq6089L12m]\n",
    "    ,fcr.[TtlDelq90Plus]\n",
    "    ,fcr.[TtlDelq90PlusL12m]\n",
    "    ,fcr.[TtlInquiries]\n",
    "    ,fcr.[TtlLegals]\n",
    "    ,fcr.[TtlOfficials]\n",
    "    ,fcr.[WorstStatusEver]\n",
    "\n",
    "from\n",
    "\tbclients b\n",
    "\t\tjoin\n",
    "\tclient c\n",
    "on\n",
    "\tb.clientKey = c.ClientKey\n",
    "\t\tjoin\n",
    "\t(\n",
    "\t\tselect\n",
    "\t\t\t*\n",
    "\t\t\t--,Row_number() over (partition by clientKey order by ficoapplicationKey) as Farn\n",
    "\t\tfrom\n",
    "\t\t\tficoapplication \n",
    "\t\twhere\n",
    "\t\t\tBkiFlg = 1\n",
    "\t)fa\n",
    "on\n",
    "\tc.clientKey = fa.clientKey\n",
    "\t\tjoin\n",
    "\tloanApplication la\n",
    "on\n",
    "\tla.loanApplicationKey = fa.loanApplicationKey\n",
    "\t\tjoin\n",
    "\tstore s\n",
    "on\n",
    "\tla.storeKey = s.storeKey\n",
    "\t\tjoin\n",
    "\ttrader t\n",
    "on\n",
    "\tt.traderKey = s.traderKey\n",
    "\t\tjoin\n",
    "\t(\n",
    "\t\tselect\n",
    "\t\t\t*\n",
    "\t\t\t,Row_number() over (partition by ficoapplicationKey order by FicoCreditRegistryKey) as fcrRn\n",
    "\t\tfrom\n",
    "\t\t\tFicoCreditRegistry \n",
    "\t)fcr\n",
    "on\n",
    "\tfcr.ficoApplicationKey = fa.ficoApplicationKey\n",
    "where\n",
    "\tfcrRn = 1 -- faRn = 1 and \"\"\"\n",
    "\n",
    "df = pd.read_sql(mainQuery,cnxn)"
   ]
  },
  {
   "cell_type": "code",
   "execution_count": 8,
   "metadata": {
    "collapsed": false
   },
   "outputs": [],
   "source": [
    "df.to_csv('addSource.csv',index=False)0"
   ]
  },
  {
   "cell_type": "code",
   "execution_count": 45,
   "metadata": {
    "collapsed": true
   },
   "outputs": [],
   "source": [
    "source = pd.read_csv('addSource.csv',encoding='cp1251')\n",
    "bFlags = pd.read_csv('C:/YandexDisk/Work/Useful/BadFlags/badFlags.csv')\n",
    "SourceBadFlags = pd.merge(source,bFlags,how='left')\n",
    "clustInfo = pd.read_csv('clustInfo.csv')\n",
    "\n",
    "woeOut = pd.read_csv('woeOut.csv')"
   ]
  },
  {
   "cell_type": "code",
   "execution_count": 13,
   "metadata": {
    "collapsed": true
   },
   "outputs": [],
   "source": [
    "dfVar = bs.mainTransform(SourceBadFlags)"
   ]
  },
  {
   "cell_type": "code",
   "execution_count": 15,
   "metadata": {
    "collapsed": false
   },
   "outputs": [],
   "source": [
    "dfVar.loc[dfVar.floan.isnull(),'floan'] = 0"
   ]
  },
  {
   "cell_type": "code",
   "execution_count": 37,
   "metadata": {
    "collapsed": true
   },
   "outputs": [],
   "source": [
    "dfTr = sf.ootTransform(dfVar,clustInfo,woeInfo,goodColumns)"
   ]
  },
  {
   "cell_type": "code",
   "execution_count": 40,
   "metadata": {
    "collapsed": false
   },
   "outputs": [],
   "source": [
    "dfTrCl = pd.concat([dfVar['clientKey'],dfTr],axis=1)"
   ]
  },
  {
   "cell_type": "code",
   "execution_count": 44,
   "metadata": {
    "collapsed": false
   },
   "outputs": [],
   "source": [
    "factor = 20 / log(2)\n",
    "intercept = 559.50687475581992"
   ]
  },
  {
   "cell_type": "code",
   "execution_count": 46,
   "metadata": {
    "collapsed": false
   },
   "outputs": [],
   "source": [
    "dfVar['scoring'] = dfVar.apply(sf.getScoringColumn,args=[woeOut,intercept],axis=1)"
   ]
  },
  {
   "cell_type": "code",
   "execution_count": 49,
   "metadata": {
    "collapsed": false
   },
   "outputs": [],
   "source": [
    "dfVar[['clientKey','badMob3','scoring']].to_csv('scorOutL.txt',index=False)"
   ]
  }
 ],
 "metadata": {
  "kernelspec": {
   "display_name": "Python 3",
   "language": "python",
   "name": "python3"
  },
  "language_info": {
   "codemirror_mode": {
    "name": "ipython",
    "version": 3
   },
   "file_extension": ".py",
   "mimetype": "text/x-python",
   "name": "python",
   "nbconvert_exporter": "python",
   "pygments_lexer": "ipython3",
   "version": "3.5.1"
  }
 },
 "nbformat": 4,
 "nbformat_minor": 0
}
