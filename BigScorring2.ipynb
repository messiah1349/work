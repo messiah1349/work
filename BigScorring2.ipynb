{
 "cells": [
  {
   "cell_type": "code",
   "execution_count": 1,
   "metadata": {
    "collapsed": true
   },
   "outputs": [],
   "source": [
    "%matplotlib inline\n",
    "import pandas as pd\n",
    "import numpy as np\n",
    "import os\n",
    "import getpass\n",
    "import pyodbc\n",
    "import datetime\n",
    "import matplotlib\n",
    "import matplotlib.pyplot as plt\n",
    "from mainQuery import query\n",
    "from sklearn.utils import check_consistent_length, column_or_1d, check_array\n",
    "import Buckets as bc\n",
    "import woe\n",
    "import scoringfunctions as sf\n",
    "import bsfunctions as bs\n",
    "import time\n",
    "from scipy import stats\n",
    "\n",
    "from sklearn.utils.fixes import isclose\n",
    "from sklearn import metrics as met\n",
    "from sklearn.ensemble import ExtraTreesClassifier\n",
    "from sklearn.cross_validation import KFold\n",
    "from pylab import rcParams\n",
    "from sklearn.linear_model import LogisticRegression\n",
    "from sklearn.feature_selection import RFE\n",
    "from sklearn.cross_validation import cross_val_score, train_test_split\n",
    "from sklearn.feature_selection import RFE\n",
    "rcParams['figure.figsize'] = 7, 7\n",
    "pd.options.mode.chained_assignment = None"
   ]
  },
  {
   "cell_type": "code",
   "execution_count": 2,
   "metadata": {
    "collapsed": false
   },
   "outputs": [],
   "source": [
    "import imp\n",
    "woe = imp.reload(woe)\n",
    "sf = imp.reload(sf)\n",
    "bs = imp.reload(bs)"
   ]
  },
  {
   "cell_type": "code",
   "execution_count": 3,
   "metadata": {
    "collapsed": false
   },
   "outputs": [
    {
     "name": "stdout",
     "output_type": "stream",
     "text": [
      "DWH_Password: ········\n"
     ]
    }
   ],
   "source": [
    "connectString = 'DRIVER={SQL Server};SERVER=dwh.int.revoplus.ru;DATABASE=Revo_DW;UID=e.migaev;PWD='\n",
    "pswd = getpass.getpass('DWH_Password: ')\n",
    "connectString = connectString + pswd\n",
    "cnxn = pyodbc.connect(connectString)\n",
    "pswd = connectString = ''"
   ]
  },
  {
   "cell_type": "markdown",
   "metadata": {
    "collapsed": true
   },
   "source": [
    "df = pd.read_sql(query,cnxn)\n",
    "df.to_csv('sourceSmaple.csv',index = False)"
   ]
  },
  {
   "cell_type": "code",
   "execution_count": 3,
   "metadata": {
    "collapsed": false
   },
   "outputs": [
    {
     "name": "stderr",
     "output_type": "stream",
     "text": [
      "C:\\Users\\e.migaev\\Anaconda3\\lib\\site-packages\\IPython\\core\\interactiveshell.py:2902: DtypeWarning: Columns (16,17) have mixed types. Specify dtype option on import or set low_memory=False.\n",
      "  interactivity=interactivity, compiler=compiler, result=result)\n"
     ]
    }
   ],
   "source": [
    "source = pd.read_csv('sourceSmaple.csv',encoding='cp1251')\n",
    "bFlags = pd.read_csv('C:/YandexDisk/Work/Useful/BadFlags/badFlags.csv')\n",
    "SourceBadFlags = pd.merge(source,bFlags,how='left')"
   ]
  },
  {
   "cell_type": "code",
   "execution_count": 4,
   "metadata": {
    "collapsed": false
   },
   "outputs": [],
   "source": [
    "lastDate = SourceBadFlags[(SourceBadFlags.badMob3.notnull())].sort_values('ApplicationDate',\n",
    "                            ascending=False).reset_index().loc[int(0.01*len(SourceBadFlags)),'ApplicationDate']\n",
    "lastDate = pd.to_datetime(lastDate)"
   ]
  },
  {
   "cell_type": "code",
   "execution_count": 5,
   "metadata": {
    "collapsed": true
   },
   "outputs": [],
   "source": [
    "dfVar = bs.mainTransform(SourceBadFlags)\n",
    "dfVar = dfVar.drop(dfVar[(dfVar.badMob3.notnull())&(dfVar.badFpd.isnull())].index)"
   ]
  },
  {
   "cell_type": "markdown",
   "metadata": {},
   "source": [
    "# Trader choose"
   ]
  },
  {
   "cell_type": "code",
   "execution_count": 6,
   "metadata": {
    "collapsed": false
   },
   "outputs": [],
   "source": [
    "kari = [6,25,44]\n",
    "dm = [12,26]\n",
    "allTrader = list(dfVar.traderKey.unique())\n",
    "\n",
    "dfMob3Kari, dfFPDKari, dfOotKari, dfDeclKari = bs.chooseTrader(dfVar, kari,lastDate)\n",
    "dfMob3dm, dfFPDdm, dfOotdm, dfDeclDM = bs.chooseTrader(dfVar, dm, lastDate)\n",
    "dfMob3All,dfFPDAll, dfOotAll, dfDeclAll = bs.chooseTrader(dfVar,allTrader, lastDate)"
   ]
  },
  {
   "cell_type": "code",
   "execution_count": 9,
   "metadata": {
    "collapsed": false,
    "scrolled": true
   },
   "outputs": [],
   "source": [
    "dfMob3All.to_csv('AllMob3/src2.csv',index=False)"
   ]
  },
  {
   "cell_type": "markdown",
   "metadata": {},
   "source": [
    "# WOE creation"
   ]
  },
  {
   "cell_type": "code",
   "execution_count": 371,
   "metadata": {
    "collapsed": false
   },
   "outputs": [
    {
     "name": "stdout",
     "output_type": "stream",
     "text": [
      "Mob3all:\n",
      "Progress: 3.6%, 7.1%, 10.7%, 14.3%, 17.9%, 21.4%, 25.0%, 28.6%, 32.1%, 35.7%, 39.3%, 42.9%, 46.4%, 50.0%, 53.6%, 57.1%, 60.7%, 64.3%, 67.9%, 71.4%, 75.0%, 78.6%, 82.1%, 85.7%, 89.3%, 92.9%, 96.4%, 100.0%, \n",
      "FPDall:\n",
      "Progress: 3.6%, 7.1%, 10.7%, 14.3%, 17.9%, 21.4%, 25.0%, 28.6%, 32.1%, 35.7%, 39.3%, 42.9%, 46.4%, 50.0%, 53.6%, 57.1%, 60.7%, 64.3%, 67.9%, 71.4%, 75.0%, 78.6%, 82.1%, 85.7%, 89.3%, 92.9%, 96.4%, 100.0%, \n",
      "MOb3Kari:\n",
      "Progress: 3.6%, 7.1%, 10.7%, 14.3%, 17.9%, 21.4%, 25.0%, 28.6%, 32.1%, 35.7%, 39.3%, 42.9%, 46.4%, 50.0%, 53.6%, 57.1%, 60.7%, 64.3%, 67.9%, 71.4%, 75.0%, 78.6%, 82.1%, 85.7%, 89.3%, 92.9%, 96.4%, 100.0%, \n",
      "FPDKari:\n",
      "Progress: 3.6%, 7.1%, 10.7%, 14.3%, 17.9%, 21.4%, 25.0%, 28.6%, 32.1%, 35.7%, 39.3%, 42.9%, 46.4%, 50.0%, 53.6%, 57.1%, 60.7%, 64.3%, 67.9%, 71.4%, 75.0%, 78.6%, 82.1%, 85.7%, 89.3%, 92.9%, 96.4%, 100.0%, \n",
      "Mob3dm:\n",
      "Progress: 3.6%, 7.1%, 10.7%, 14.3%, 17.9%, 21.4%, 25.0%, 28.6%, 32.1%, 35.7%, 39.3%, 42.9%, 46.4%, 50.0%, 53.6%, 57.1%, 60.7%, 64.3%, 67.9%, 71.4%, 75.0%, 78.6%, 82.1%, 85.7%, 89.3%, 92.9%, 96.4%, 100.0%, \n",
      "FPDdm:\n",
      "Progress: 3.6%, 7.1%, 10.7%, 14.3%, 17.9%, 21.4%, 25.0%, 28.6%, 32.1%, 35.7%, 39.3%, 42.9%, 46.4%, 50.0%, 53.6%, 57.1%, 60.7%, 64.3%, 67.9%, 71.4%, 75.0%, 78.6%, 82.1%, 85.7%, 89.3%, 92.9%, 96.4%, 100.0%, \n"
     ]
    }
   ],
   "source": [
    "begin_time = time.time()\n",
    "\n",
    "dfPreWoeMob3All, clustVarsInfoMob3All = sf.continuousVariables(dfMob3All,50)\n",
    "dfPreWoeFPDAll, clustVarsInfoFPDAll = sf.continuousVariables(dfFPDAll,50)\n",
    "print('Mob3all:')\n",
    "dfPostWoeMob3All, woeVarsInfoMob3All = sf.woeVariables(dfPreWoeMob3All,'badMob3')\n",
    "print('FPDall:')\n",
    "dfPostWoeFPDAll, woeVarsInfoFPDAll = sf.woeVariables(dfPreWoeFPDAll,'badFpd')\n",
    "\n",
    "dfPreWoeMob3Kari, clustVarsInfoMob3Kari = sf.continuousVariables(dfMob3Kari,50)\n",
    "dfPreWoeFPDKari, clustVarsInfoFPDKari = sf.continuousVariables(dfFPDKari,50)\n",
    "print('MOb3Kari:')\n",
    "dfPostWoeMob3Kari, woeVarsInfoMob3Kari = sf.woeVariables(dfPreWoeMob3Kari,'badMob3')\n",
    "print('FPDKari:')\n",
    "dfPostWoeFPDKari, woeVarsInfoFPDKari = sf.woeVariables(dfPreWoeFPDKari,'badFpd')\n",
    "\n",
    "dfPreWoeMob3dm, clustVarsInfoMob3dm = sf.continuousVariables(dfMob3dm,50)\n",
    "dfPreWoeFPDdm, clustVarsInfoFPDdm = sf.continuousVariables(dfFPDdm,50)\n",
    "print('Mob3dm:')\n",
    "dfPostWoeMob3dm, woeVarsInfoMob3dm = sf.woeVariables(dfPreWoeMob3dm,'badMob3')\n",
    "print('FPDdm:')\n",
    "dfPostWoeFPDdm, woeVarsInfoFPDdm = sf.woeVariables(dfPreWoeFPDdm,'badFpd')\n",
    "\n",
    "\n",
    "end_time = time.time()"
   ]
  },
  {
   "cell_type": "code",
   "execution_count": 60,
   "metadata": {
    "collapsed": true
   },
   "outputs": [],
   "source": [
    "dfDeclAll.to_csv('AllMob3/decl.csv',index=False)\n",
    "\n",
    "dfDeclKari.to_csv('KariMob3/decl.csv',index=False)\n",
    "\n",
    "dfDeclKari.to_csv('KariFpd/decl.csv',index=False)\n",
    "\n",
    "dfDeclDM.to_csv('DMMob3/decl.csv',index=False)\n",
    "\n",
    "dfDeclDM.to_csv('DMFpd/decl.csv',index=False)"
   ]
  },
  {
   "cell_type": "code",
   "execution_count": 363,
   "metadata": {
    "collapsed": true
   },
   "outputs": [],
   "source": [
    "dfMob3All.to_csv('AllMob3/src.csv',index=False)\n",
    "dfOotAll.to_csv('AllMob3/oot.csv',index=False)\n",
    "dfPreWoeMob3All.to_csv('AllMob3/preWoe.csv',index=False)\n",
    "clustVarsInfoMob3All.to_csv('AllMob3/clustInfo.csv',index=False)\n",
    "dfPostWoeMob3All.to_csv('AllMob3/postWoe.csv',index=False)\n",
    "woeVarsInfoMob3All.to_csv('AllMob3/woeInfo.csv',index=False)\n",
    "\n",
    "dfMob3Kari.to_csv('KariMob3/src.csv',index=False)\n",
    "dfOotKari.to_csv('KariMob3/oot.csv',index=False)\n",
    "dfPreWoeMob3Kari.to_csv('KariMob3/preWoe.csv',index=False)\n",
    "clustVarsInfoMob3Kari.to_csv('KariMob3/clustInfo.csv',index=False)\n",
    "dfPostWoeMob3Kari.to_csv('KariMob3/postWoe.csv',index=False)\n",
    "woeVarsInfoMob3Kari.to_csv('KariMob3/woeInfo.csv',index=False)\n",
    "\n",
    "dfFPDKari.to_csv('KariFpd/src.csv',index=False)\n",
    "dfOotKari.to_csv('KariFpd/oot.csv',index=False)\n",
    "dfPreWoeFPDKari.to_csv('KariFpd/preWoe.csv',index=False)\n",
    "clustVarsInfoFPDKari.to_csv('KariFpd/clustInfo.csv',index=False)\n",
    "dfPostWoeFPDKari.to_csv('KariFpd/postWoe.csv',index=False)\n",
    "woeVarsInfoFPDKari.to_csv('KariFpd/woeInfo.csv',index=False)\n",
    "\n",
    "dfMob3dm.to_csv('DMMob3/src.csv',index=False)\n",
    "dfOotdm.to_csv('DMMob3/oot.csv',index=False)\n",
    "dfPreWoeMob3dm.to_csv('DMMob3/preWoe.csv',index=False)\n",
    "clustVarsInfoMob3dm.to_csv('DMMob3/clustInfo.csv',index=False)\n",
    "dfPostWoeMob3dm.to_csv('DMMob3/postWoe.csv',index=False)\n",
    "woeVarsInfoMob3dm.to_csv('DMMob3/woeInfo.csv',index=False)\n",
    "\n",
    "dfFPDdm.to_csv('DMFpd/src.csv',index=False)\n",
    "dfOotdm.to_csv('DMFpd/oot.csv',index=False)\n",
    "dfPreWoeFPDdm.to_csv('DMFpd/preWoe.csv',index=False)\n",
    "clustVarsInfoFPDdm.to_csv('DMFpd/clustInfo.csv',index=False)\n",
    "dfPostWoeFPDdm.to_csv('DMFpd/postWoe.csv',index=False)\n",
    "woeVarsInfoFPDdm.to_csv('DMFpd/woeInfo.csv',index=False)"
   ]
  },
  {
   "cell_type": "code",
   "execution_count": 128,
   "metadata": {
    "collapsed": false
   },
   "outputs": [
    {
     "data": {
      "text/plain": [
       "24.97419562737147"
      ]
     },
     "execution_count": 128,
     "metadata": {},
     "output_type": "execute_result"
    }
   ],
   "source": [
    "(end_time - begin_time) / 60"
   ]
  },
  {
   "cell_type": "code",
   "execution_count": 119,
   "metadata": {
    "collapsed": false
   },
   "outputs": [
    {
     "data": {
      "text/plain": [
       "27.885725875695545"
      ]
     },
     "execution_count": 119,
     "metadata": {},
     "output_type": "execute_result"
    }
   ],
   "source": [
    "(end_time - begin_time) / 60"
   ]
  }
 ],
 "metadata": {
  "kernelspec": {
   "display_name": "Python 3",
   "language": "python",
   "name": "python3"
  },
  "language_info": {
   "codemirror_mode": {
    "name": "ipython",
    "version": 3
   },
   "file_extension": ".py",
   "mimetype": "text/x-python",
   "name": "python",
   "nbconvert_exporter": "python",
   "pygments_lexer": "ipython3",
   "version": "3.5.1"
  }
 },
 "nbformat": 4,
 "nbformat_minor": 0
}
